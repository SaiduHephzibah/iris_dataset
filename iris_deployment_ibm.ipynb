{
 "cells": [
  {
   "cell_type": "code",
   "execution_count": 1,
   "metadata": {},
   "outputs": [],
   "source": [
    "import urllib3, requests, json\n",
    "\n",
    "# retrieve your wml_service_credentials_username, wml_service_credentials_password, and wml_service_credentials_url from the\n",
    "# Service credentials associated with your IBM Cloud Watson Machine Learning Service instance\n",
    "\n",
    "wml_credentials={\n",
    "  \"username\": \"dea56d49-8bbc-4004-9752-4c6fdbbed892\",\n",
    "  \"password\": \"e0f0d402-4f9c-4fd3-afb8-e32928490f99\",\n",
    "  \"instance_id\": \"1ad1b49c-3807-451f-a9e0-809de5f2ef56\",\n",
    "  \"url\": \"https://eu-gb.ml.cloud.ibm.com\"\n",
    "}"
   ]
  },
  {
   "cell_type": "code",
   "execution_count": 3,
   "metadata": {},
   "outputs": [],
   "source": [
    "input_val=[7,5.1,3.5,1.4,0.2]"
   ]
  },
  {
   "cell_type": "code",
   "execution_count": 4,
   "metadata": {},
   "outputs": [
    {
     "name": "stdout",
     "output_type": "stream",
     "text": [
      "Scoring response\n",
      "{'fields': ['Id', 'SepalLengthCm', 'SepalWidthCm', 'PetalLengthCm', 'PetalWidthCm', 'features', 'rawPrediction', 'probability', 'prediction', 'nodeADP_class', 'nodeADP_classes'], 'values': [[7, 5.1, 3.5, 1.4, 0.2, [0.16086583562809437, 6.323741543159537, 7.697148055835789, 0.7835258737037074, 0.26307128308319333], [20.0, 0.0, 0.0], [1.0, 0.0, 0.0], 0.0, 'Iris-setosa', ['Iris-setosa', 'Iris-versicolor', 'Iris-virginica']]]}\n"
     ]
    }
   ],
   "source": [
    "headers = urllib3.util.make_headers(basic_auth='{username}:{password}'.format(username=wml_credentials['username'], password=wml_credentials['password']))\n",
    "url = '{}/v3/identity/token'.format(wml_credentials['url'])\n",
    "response = requests.get(url, headers=headers)\n",
    "mltoken = json.loads(response.text).get('token')\n",
    "\n",
    "header = {'Content-Type': 'application/json', 'Authorization': 'Bearer ' + mltoken}\n",
    "\n",
    "# NOTE: manually define and pass the array(s) of values to be scored in the next line\n",
    "payload_scoring = {\"fields\": [\"Id\", \"SepalLengthCm\", \"SepalWidthCm\", \"PetalLengthCm\", \"PetalWidthCm\"], \"values\": [input_val]}\n",
    "\n",
    "response_scoring = requests.post('https://eu-gb.ml.cloud.ibm.com/v3/wml_instances/1ad1b49c-3807-451f-a9e0-809de5f2ef56/published_models/c3581e26-d201-4888-bbb6-ed230c9e64b2/deployments/c1a3776d-ee12-4c69-83f3-789d6fed4bfd/online', json=payload_scoring, headers=header)\n",
    "print(\"Scoring response\")\n",
    "print(json.loads(response_scoring.text))"
   ]
  },
  {
   "cell_type": "code",
   "execution_count": null,
   "metadata": {},
   "outputs": [],
   "source": []
  }
 ],
 "metadata": {
  "kernelspec": {
   "display_name": "Python 3",
   "language": "python",
   "name": "python3"
  },
  "language_info": {
   "codemirror_mode": {
    "name": "ipython",
    "version": 3
   },
   "file_extension": ".py",
   "mimetype": "text/x-python",
   "name": "python",
   "nbconvert_exporter": "python",
   "pygments_lexer": "ipython3",
   "version": "3.6.5"
  }
 },
 "nbformat": 4,
 "nbformat_minor": 2
}
